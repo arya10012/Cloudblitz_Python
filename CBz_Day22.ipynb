{
  "nbformat": 4,
  "nbformat_minor": 0,
  "metadata": {
    "colab": {
      "provenance": []
    },
    "kernelspec": {
      "name": "python3",
      "display_name": "Python 3"
    },
    "language_info": {
      "name": "python"
    }
  },
  "cells": [
    {
      "cell_type": "code",
      "execution_count": null,
      "metadata": {
        "id": "Cvs0dPzJFoYA"
      },
      "outputs": [],
      "source": [
        "#Encapsulation Types -\n",
        "# 1) Public - a=\" hello \"  , Can be accessed in every class.\n",
        "# 2) Protected - _a=\" hello \" , can be accesed by class it has been decalred and subclasses.\n",
        "# 3) Private - __a=\" hello \" , can be accessed only in the class it has been declared."
      ]
    },
    {
      "cell_type": "code",
      "source": [
        "class MyClass:\n",
        "    def __init__(self):\n",
        "        self.my_string = \"Hello, World!\" # A simple string variable\n",
        "        self.public_var = \"Public\"\n",
        "        self._protected_var = \"Protected\"\n",
        "        self.__private_var = \"Private\"\n",
        "\n",
        "    def show_string(self):\n",
        "        print(\"Inside class, accessing my_string:\", self.my_string)\n",
        "\n",
        "    def show_vars(self):\n",
        "        print(\"Inside class:\")\n",
        "        print(\"Public:\", self.public_var)\n",
        "        print(\"Protected:\", self._protected_var)\n",
        "        print(\"Private:\", self.__private_var)\n",
        "\n",
        "obj = MyClass()\n",
        "\n",
        "# Accessing the string from outside the class\n",
        "print(\"Outside class, accessing my_string:\", obj.my_string)\n",
        "\n",
        "obj.show_string()\n",
        "obj.show_vars()\n",
        "\n",
        "class SubClass(MyClass):\n",
        "    def show_protected(self):\n",
        "        print(\"Inside subclass:\")\n",
        "        print(\"Protected:\", self._protected_var)\n",
        "\n",
        "sub_obj = SubClass()\n",
        "sub_obj.show_protected()"
      ],
      "metadata": {
        "colab": {
          "base_uri": "https://localhost:8080/"
        },
        "id": "6WI7Ldu6O9iU",
        "outputId": "cd30e430-6d43-46c2-8426-4690946d12cd"
      },
      "execution_count": null,
      "outputs": [
        {
          "output_type": "stream",
          "name": "stdout",
          "text": [
            "Outside class, accessing my_string: Hello, World!\n",
            "Inside class, accessing my_string: Hello, World!\n",
            "Inside class:\n",
            "Public: Public\n",
            "Protected: Protected\n",
            "Private: Private\n",
            "Inside subclass:\n",
            "Protected: Protected\n"
          ]
        }
      ]
    },
    {
      "cell_type": "code",
      "source": [
        "class enc:\n",
        "  def __init__(self):\n",
        "      self.string = \"Hello, World!\"\n",
        "      self.public_var = \"Public\"\n",
        "      self._protected_var = \"Protected\"\n",
        "      self.__private_var = \"Private\"\n",
        "\n",
        "  def show_string(self):\n",
        "      print(\"Inside class, accessing string:\", self.string)\n",
        "\n",
        "  def show_vars(self):\n",
        "      print(\"Inside class:\")\n",
        "      print(\"Public:\", self.public_var)\n",
        "      print(\"Protected:\", self._protected_var)\n",
        "      print(\"Private:\", self.__private_var)\n",
        "\n",
        "obj = enc()\n",
        "\n",
        "print(\"Outside Class, Accessing String\", obj.string)\n",
        "\n",
        "obj.show_string()\n",
        "obj.show_vars()\n",
        "\n",
        "class SubClass(enc):\n",
        "  def show_protected(self):\n",
        "      print(\"Inside Subclass:\")\n",
        "      print(\"Protected:\", self._protected_var)\n"
      ],
      "metadata": {
        "colab": {
          "base_uri": "https://localhost:8080/"
        },
        "id": "ntb87LAGYtMt",
        "outputId": "8a0a9fb8-cc29-4fff-bada-1e5e2ef44af9"
      },
      "execution_count": null,
      "outputs": [
        {
          "output_type": "stream",
          "name": "stdout",
          "text": [
            "Outside Class, Accessing String Hello, World!\n",
            "Inside class, accessing string: Hello, World!\n",
            "Inside class:\n",
            "Public: Public\n",
            "Protected: Protected\n",
            "Private: Private\n"
          ]
        }
      ]
    },
    {
      "cell_type": "code",
      "source": [
        "#Abstraction - It is the concept of hiding of information from the user\n"
      ],
      "metadata": {
        "id": "fmr1jJUXagE0"
      },
      "execution_count": null,
      "outputs": []
    }
  ]
}