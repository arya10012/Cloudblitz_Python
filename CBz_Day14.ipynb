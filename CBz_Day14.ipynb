{
  "nbformat": 4,
  "nbformat_minor": 0,
  "metadata": {
    "colab": {
      "provenance": []
    },
    "kernelspec": {
      "name": "python3",
      "display_name": "Python 3"
    },
    "language_info": {
      "name": "python"
    }
  },
  "cells": [
    {
      "cell_type": "code",
      "execution_count": null,
      "metadata": {
        "id": "XLoxxwvydQiH"
      },
      "outputs": [],
      "source": [
        "import requests\n",
        "api_key = "  # Replace with your API key\n",
        "city = 'Katraj'\n",
        "url = f\"https://api.openweathermap.org/data/2.5/weather?q={city}&appid={api_key}&units=metric\"\n",
        "\n",
        "response = requests.get(url)\n",
        "response.raise_for_status()  # Raise an exception for error status codes\n",
        "data = response.json()"
      ]
    },
    {
      "cell_type": "code",
      "source": [
        "data"
      ],
      "metadata": {
        "colab": {
          "base_uri": "https://localhost:8080/"
        },
        "id": "gn5kvIRzkWF1",
        "outputId": "8a6c7dae-a196-40d4-bb6b-32596e3f78eb"
      },
      "execution_count": null,
      "outputs": [
        {
          "output_type": "execute_result",
          "data": {
            "text/plain": [
              "{'coord': {'lon': 73.8563, 'lat': 18.4537},\n",
              " 'weather': [{'id': 804,\n",
              "   'main': 'Clouds',\n",
              "   'description': 'overcast clouds',\n",
              "   'icon': '04d'}],\n",
              " 'base': 'stations',\n",
              " 'main': {'temp': 23.43,\n",
              "  'feels_like': 24.34,\n",
              "  'temp_min': 23.43,\n",
              "  'temp_max': 23.43,\n",
              "  'pressure': 1005,\n",
              "  'humidity': 96,\n",
              "  'sea_level': 1005,\n",
              "  'grnd_level': 929},\n",
              " 'wind': {'speed': 1.67, 'deg': 236, 'gust': 7.48},\n",
              " 'clouds': {'all': 100},\n",
              " 'dt': 1753329286,\n",
              " 'sys': {'type': 2,\n",
              "  'id': 2104163,\n",
              "  'country': 'IN',\n",
              "  'sunrise': 1753317567,\n",
              "  'sunset': 1753364543},\n",
              " 'timezone': 19800,\n",
              " 'id': 1259652,\n",
              " 'name': 'Katraj',\n",
              " 'cod': 200}"
            ]
          },
          "metadata": {},
          "execution_count": 4
        }
      ]
    },
    {
      "cell_type": "code",
      "source": [
        "#User Defined Functions\n",
        "def f(x):\n",
        "  return 2*x+1"
      ],
      "metadata": {
        "id": "CiMxIVPOkXDm"
      },
      "execution_count": null,
      "outputs": []
    },
    {
      "cell_type": "code",
      "source": [
        "f(5)"
      ],
      "metadata": {
        "colab": {
          "base_uri": "https://localhost:8080/"
        },
        "id": "M5hmbcpKmasu",
        "outputId": "d33f4b08-837c-407c-eee3-db4ff3836bd6"
      },
      "execution_count": null,
      "outputs": [
        {
          "output_type": "execute_result",
          "data": {
            "text/plain": [
              "11"
            ]
          },
          "metadata": {},
          "execution_count": 6
        }
      ]
    },
    {
      "cell_type": "code",
      "source": [
        "def greet(name):\n",
        "  return(f\"Hello {name}\")"
      ],
      "metadata": {
        "id": "YTQAU4D8mbmM"
      },
      "execution_count": null,
      "outputs": []
    },
    {
      "cell_type": "code",
      "source": [
        "greet(\"Arya\")"
      ],
      "metadata": {
        "colab": {
          "base_uri": "https://localhost:8080/",
          "height": 36
        },
        "id": "NC1_Ao4dnQwf",
        "outputId": "67e6c7d0-951a-4522-ecaa-300ad0b4b4d0"
      },
      "execution_count": null,
      "outputs": [
        {
          "output_type": "execute_result",
          "data": {
            "text/plain": [
              "'Hello Arya'"
            ],
            "application/vnd.google.colaboratory.intrinsic+json": {
              "type": "string"
            }
          },
          "metadata": {},
          "execution_count": 13
        }
      ]
    },
    {
      "cell_type": "code",
      "source": [
        "l=[\"arya\",\"aditya\",\"swaraj\",\"suraj\"]"
      ],
      "metadata": {
        "id": "lB4LRZYcnUZj"
      },
      "execution_count": null,
      "outputs": []
    },
    {
      "cell_type": "code",
      "source": [
        "for i in l:\n",
        "  print(greet(i))"
      ],
      "metadata": {
        "colab": {
          "base_uri": "https://localhost:8080/"
        },
        "id": "J6p89rJFnmaR",
        "outputId": "9043ddb9-c935-408b-80c1-07163d071379"
      },
      "execution_count": null,
      "outputs": [
        {
          "output_type": "stream",
          "name": "stdout",
          "text": [
            "Hello arya\n",
            "Hello aditya\n",
            "Hello swaraj\n",
            "Hello suraj\n"
          ]
        }
      ]
    },
    {
      "cell_type": "code",
      "source": [],
      "metadata": {
        "id": "iaVpRVe3nqxg"
      },
      "execution_count": null,
      "outputs": []
    },
    {
      "cell_type": "code",
      "metadata": {
        "id": "d49b23b8"
      },
      "source": [
        "def calculate_force(mass, acceleration):\n",
        "  \"\"\"Calculates force using the formula F = m * a.\"\"\"\n",
        "  return mass * acceleration"
      ],
      "execution_count": null,
      "outputs": []
    },
    {
      "cell_type": "code",
      "source": [
        "calculate_force(10,9.8)"
      ],
      "metadata": {
        "colab": {
          "base_uri": "https://localhost:8080/"
        },
        "id": "749Z4gEro-6b",
        "outputId": "def61f8a-3514-4309-8c28-26e691ba3f8d"
      },
      "execution_count": null,
      "outputs": [
        {
          "output_type": "execute_result",
          "data": {
            "text/plain": [
              "98.0"
            ]
          },
          "metadata": {},
          "execution_count": 17
        }
      ]
    },
    {
      "cell_type": "code",
      "source": [
        "def calculate_kinetic_energy(mass, velocity):\n",
        "  \"\"\"Calculates kinetic energy using the formula KE = 0.5 * m * v^2.\"\"\"\n",
        "  return 0.5 * mass * (velocity ** 2)"
      ],
      "metadata": {
        "id": "7oXpK5o2pVuq"
      },
      "execution_count": null,
      "outputs": []
    },
    {
      "cell_type": "code",
      "source": [
        "calculate_kinetic_energy(10,40)"
      ],
      "metadata": {
        "colab": {
          "base_uri": "https://localhost:8080/"
        },
        "id": "2BgT29Huqfy6",
        "outputId": "7683c0d1-7ede-432a-8a75-d88e6b1ab53e"
      },
      "execution_count": null,
      "outputs": [
        {
          "output_type": "execute_result",
          "data": {
            "text/plain": [
              "8000.0"
            ]
          },
          "metadata": {},
          "execution_count": 21
        }
      ]
    },
    {
      "cell_type": "code",
      "source": [
        "def celsius_to_fahrenheit(celsius):\n",
        "  \"\"\"Converts Celsius to Fahrenheit.\"\"\"\n",
        "  return (celsius * 9/5) + 32"
      ],
      "metadata": {
        "id": "6-tXSpiBqlgR"
      },
      "execution_count": null,
      "outputs": []
    },
    {
      "cell_type": "code",
      "source": [
        "celsius_to_fahrenheit(32)"
      ],
      "metadata": {
        "colab": {
          "base_uri": "https://localhost:8080/"
        },
        "id": "z_-U4_r2qxy_",
        "outputId": "04d52201-92c8-4ca8-9076-8ed47b42566c"
      },
      "execution_count": null,
      "outputs": [
        {
          "output_type": "execute_result",
          "data": {
            "text/plain": [
              "89.6"
            ]
          },
          "metadata": {},
          "execution_count": 23
        }
      ]
    },
    {
      "cell_type": "code",
      "source": [
        "#age of users\n",
        "def calculate_age(birth_year):\n",
        "  \"\"\"Calculates age based on birth year.\"\"\"\n",
        "  current_year = 2025\n",
        "  return current_year - birth_year"
      ],
      "metadata": {
        "id": "td48BS-Bq0d-"
      },
      "execution_count": null,
      "outputs": []
    },
    {
      "cell_type": "code",
      "source": [
        "calculate_age(2004)"
      ],
      "metadata": {
        "colab": {
          "base_uri": "https://localhost:8080/"
        },
        "id": "M9jMflnXrIR2",
        "outputId": "9122262c-d1c8-4061-98da-57fadabd7ade"
      },
      "execution_count": null,
      "outputs": [
        {
          "output_type": "execute_result",
          "data": {
            "text/plain": [
              "21"
            ]
          },
          "metadata": {},
          "execution_count": 25
        }
      ]
    },
    {
      "cell_type": "code",
      "source": [
        "li=[1,2,3]\n"
      ],
      "metadata": {
        "colab": {
          "base_uri": "https://localhost:8080/"
        },
        "id": "DQoKrSJSrKeu",
        "outputId": "c96e50b2-f098-4abd-d477-7f44e5554bb1"
      },
      "execution_count": null,
      "outputs": [
        {
          "output_type": "stream",
          "name": "stdout",
          "text": [
            "[1, 2, 3, 1, 2, 3]\n"
          ]
        }
      ]
    },
    {
      "cell_type": "code",
      "source": [],
      "metadata": {
        "id": "jPL8hJazra0B"
      },
      "execution_count": null,
      "outputs": []
    },
    {
      "cell_type": "code",
      "metadata": {
        "id": "73996990"
      },
      "source": [
        "def double_list(input_list):\n",
        "  \"\"\"Takes a list and returns the list concatenated with itself.\"\"\"\n",
        "  return input_list * 2"
      ],
      "execution_count": null,
      "outputs": []
    },
    {
      "cell_type": "code",
      "source": [
        "squared_list = [x**2 for x in li]\n",
        "display(squared_list)"
      ],
      "metadata": {
        "colab": {
          "base_uri": "https://localhost:8080/",
          "height": 35
        },
        "id": "dS0VibXgr-Xf",
        "outputId": "1cda9866-0ce2-4313-8216-7c3e3ec5e594"
      },
      "execution_count": null,
      "outputs": [
        {
          "output_type": "display_data",
          "data": {
            "text/plain": [
              "[1, 4, 9]"
            ]
          },
          "metadata": {}
        }
      ]
    },
    {
      "cell_type": "code",
      "source": [
        "#area of rectangle\n",
        "def area(l,b):\n",
        "  return l*b"
      ],
      "metadata": {
        "id": "sOLjBrO9r16P"
      },
      "execution_count": null,
      "outputs": []
    },
    {
      "cell_type": "code",
      "source": [
        "area(12,34)"
      ],
      "metadata": {
        "colab": {
          "base_uri": "https://localhost:8080/"
        },
        "id": "5_dE9FpntS9L",
        "outputId": "b45cb691-586e-4559-875d-f52d17b12233"
      },
      "execution_count": null,
      "outputs": [
        {
          "output_type": "execute_result",
          "data": {
            "text/plain": [
              "408"
            ]
          },
          "metadata": {},
          "execution_count": 39
        }
      ]
    },
    {
      "cell_type": "code",
      "source": [
        "#area of circle\n",
        "def circle_area(radius):\n",
        "  return 3.14*radius**2"
      ],
      "metadata": {
        "id": "bQTNrvCstU_a"
      },
      "execution_count": null,
      "outputs": []
    },
    {
      "cell_type": "code",
      "source": [
        "circle_area(12)"
      ],
      "metadata": {
        "colab": {
          "base_uri": "https://localhost:8080/"
        },
        "id": "zdVI2LxgtjCZ",
        "outputId": "65561357-0c08-4333-824c-cf0702f9ff61"
      },
      "execution_count": null,
      "outputs": [
        {
          "output_type": "execute_result",
          "data": {
            "text/plain": [
              "452.16"
            ]
          },
          "metadata": {},
          "execution_count": 41
        }
      ]
    },
    {
      "cell_type": "code",
      "source": [
        "from re import A\n",
        "from datetime import datetime\n",
        "def umar():\n",
        "  a=int(input(\"enter your birth year:\"))\n",
        "  o=datetime.now().year-a\n",
        "  return o"
      ],
      "metadata": {
        "id": "bdOhVEx-tkbB"
      },
      "execution_count": null,
      "outputs": []
    },
    {
      "cell_type": "code",
      "source": [
        "umar()"
      ],
      "metadata": {
        "colab": {
          "base_uri": "https://localhost:8080/"
        },
        "id": "kw10Epi2xxB8",
        "outputId": "71f097b8-2d39-4dd2-e8e4-34441ad050bd"
      },
      "execution_count": null,
      "outputs": [
        {
          "name": "stdout",
          "output_type": "stream",
          "text": [
            "enter your birth year:2004\n"
          ]
        },
        {
          "output_type": "execute_result",
          "data": {
            "text/plain": [
              "21"
            ]
          },
          "metadata": {},
          "execution_count": 47
        }
      ]
    },
    {
      "cell_type": "code",
      "source": [],
      "metadata": {
        "id": "6ZAq6PA5xzn3"
      },
      "execution_count": null,
      "outputs": []
    }
  ]
}
