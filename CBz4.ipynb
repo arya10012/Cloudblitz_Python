{
  "nbformat": 4,
  "nbformat_minor": 0,
  "metadata": {
    "colab": {
      "provenance": []
    },
    "kernelspec": {
      "name": "python3",
      "display_name": "Python 3"
    },
    "language_info": {
      "name": "python"
    }
  },
  "cells": [
    {
      "cell_type": "code",
      "execution_count": null,
      "metadata": {
        "id": "D-CP9d2o7bSI"
      },
      "outputs": [],
      "source": [
        "#if else statements"
      ]
    },
    {
      "cell_type": "code",
      "source": [
        "if 3 > 4 :\n",
        "  print(\"3 is greater than 4\")\n",
        "else :\n",
        "  print(\"3 is not greater than 4\")"
      ],
      "metadata": {
        "colab": {
          "base_uri": "https://localhost:8080/"
        },
        "id": "wFULiRPW8Cns",
        "outputId": "50f8d07f-83ca-41d5-d9bd-2ace6ed955bc"
      },
      "execution_count": null,
      "outputs": [
        {
          "output_type": "stream",
          "name": "stdout",
          "text": [
            "3 is not greater than 4\n"
          ]
        }
      ]
    },
    {
      "cell_type": "code",
      "source": [
        "a=int(input(\"Enter a number:\"))\n",
        "if a%2==0:\n",
        "  print(\"The number is even\")\n",
        "else:\n",
        "  print(\"The number is odd\")"
      ],
      "metadata": {
        "colab": {
          "base_uri": "https://localhost:8080/"
        },
        "id": "tHjBv5KfCqxX",
        "outputId": "618ff72f-0a6b-4fc4-8722-549a8c2545ad"
      },
      "execution_count": null,
      "outputs": [
        {
          "output_type": "stream",
          "name": "stdout",
          "text": [
            "Enter a number:45\n",
            "The number is odd\n"
          ]
        }
      ]
    },
    {
      "cell_type": "code",
      "source": [
        "num1=int(input(\"Enter a nmuber\"))\n",
        "oper=input(\"Enter the operation + - * / \")\n",
        "num2=int(input(\"Enter a number\"))\n",
        "if oper==\"+\":\n",
        "  print(num1+num2)\n",
        "elif oper==\"-\":\n",
        "  print(num1-num2)\n",
        "elif oper==\"*\":\n",
        "  print(num1*num2)\n",
        "elif oper==\"/\":\n",
        "  print(num1/num2)\n",
        "else:\n",
        "  print(\"Invalid operation\")"
      ],
      "metadata": {
        "colab": {
          "base_uri": "https://localhost:8080/"
        },
        "id": "1moRXkUnC8hH",
        "outputId": "a607525d-b2e0-4410-8a90-670024827de9"
      },
      "execution_count": null,
      "outputs": [
        {
          "output_type": "stream",
          "name": "stdout",
          "text": [
            "Enter a nmuber10\n",
            "Enter the operation + - * / +\n",
            "Enter a number12\n",
            "22\n"
          ]
        }
      ]
    },
    {
      "cell_type": "code",
      "source": [
        "age=int(input(\"Enter your age : \"))\n",
        "if 0<= age<=12:\n",
        "  print(\"You are a child\")\n",
        "elif 13<= age<=19:\n",
        "  print(\"You are a teenager\")\n",
        "elif 20<= age<=59:\n",
        "  print(\"You are an adult\")\n",
        "elif age>=65 :\n",
        "  print(\"You are a senior citizen\")\n",
        "else :\n",
        "  print(\"Invalid age\")"
      ],
      "metadata": {
        "colab": {
          "base_uri": "https://localhost:8080/"
        },
        "id": "cxurRbZRGU4f",
        "outputId": "00f4292e-b8e2-4a7f-c895-9973515f890c"
      },
      "execution_count": null,
      "outputs": [
        {
          "output_type": "stream",
          "name": "stdout",
          "text": [
            "Enter your age : 20\n",
            "You are an adult\n"
          ]
        }
      ]
    },
    {
      "cell_type": "code",
      "source": [
        "income=int(input(\"enter your income\"))\n",
        "if 0<= income <=15000:\n",
        "  print(\"You will get 5% discount\")\n",
        "elif 15001 <= income <=20000:\n",
        "  print(\"You will get 10% discount\")\n",
        "elif 20001 <= income <=50000:\n",
        "  print(\"You will get 20% discount\")\n",
        "elif 50001 <= income <=80000:\n",
        "  print(\"You will get 30% discount\")\n",
        "elif income >=80001:\n",
        "  print(\"You will get 40% discount\")\n",
        "else:\n",
        "  print(\"Invalid income\")"
      ],
      "metadata": {
        "colab": {
          "base_uri": "https://localhost:8080/"
        },
        "id": "3p0UlHJVKsuk",
        "outputId": "7dce419d-ece0-4bf2-a821-b78c5fd3ded6"
      },
      "execution_count": null,
      "outputs": [
        {
          "output_type": "stream",
          "name": "stdout",
          "text": [
            "enter your income20000\n",
            "You will get 10% discount\n"
          ]
        }
      ]
    },
    {
      "cell_type": "code",
      "source": [],
      "metadata": {
        "id": "ALhFONHrRFvl"
      },
      "execution_count": null,
      "outputs": []
    }
  ]
}