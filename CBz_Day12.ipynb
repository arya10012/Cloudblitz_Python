{
  "nbformat": 4,
  "nbformat_minor": 0,
  "metadata": {
    "colab": {
      "provenance": []
    },
    "kernelspec": {
      "name": "python3",
      "display_name": "Python 3"
    },
    "language_info": {
      "name": "python"
    }
  },
  "cells": [
    {
      "cell_type": "code",
      "execution_count": null,
      "metadata": {
        "colab": {
          "base_uri": "https://localhost:8080/"
        },
        "id": "1lBEk1bSWfwW",
        "outputId": "1ffb3b48-55f0-4491-d06b-5d5fa82c71fd"
      },
      "outputs": [
        {
          "output_type": "execute_result",
          "data": {
            "text/plain": [
              "dict"
            ]
          },
          "metadata": {},
          "execution_count": 1
        }
      ],
      "source": [
        "a={\"Hello\":\"world\",\"aloo\":\"wada\"}\n",
        "type (a)"
      ]
    },
    {
      "cell_type": "code",
      "source": [
        "dir(a)"
      ],
      "metadata": {
        "colab": {
          "base_uri": "https://localhost:8080/"
        },
        "id": "tIFCUavoa_84",
        "outputId": "0001348a-357b-42e9-e820-c7e9cf42e256"
      },
      "execution_count": null,
      "outputs": [
        {
          "output_type": "execute_result",
          "data": {
            "text/plain": [
              "['__class__',\n",
              " '__class_getitem__',\n",
              " '__contains__',\n",
              " '__delattr__',\n",
              " '__delitem__',\n",
              " '__dir__',\n",
              " '__doc__',\n",
              " '__eq__',\n",
              " '__format__',\n",
              " '__ge__',\n",
              " '__getattribute__',\n",
              " '__getitem__',\n",
              " '__getstate__',\n",
              " '__gt__',\n",
              " '__hash__',\n",
              " '__init__',\n",
              " '__init_subclass__',\n",
              " '__ior__',\n",
              " '__iter__',\n",
              " '__le__',\n",
              " '__len__',\n",
              " '__lt__',\n",
              " '__ne__',\n",
              " '__new__',\n",
              " '__or__',\n",
              " '__reduce__',\n",
              " '__reduce_ex__',\n",
              " '__repr__',\n",
              " '__reversed__',\n",
              " '__ror__',\n",
              " '__setattr__',\n",
              " '__setitem__',\n",
              " '__sizeof__',\n",
              " '__str__',\n",
              " '__subclasshook__',\n",
              " 'clear',\n",
              " 'copy',\n",
              " 'fromkeys',\n",
              " 'get',\n",
              " 'items',\n",
              " 'keys',\n",
              " 'pop',\n",
              " 'popitem',\n",
              " 'setdefault',\n",
              " 'update',\n",
              " 'values']"
            ]
          },
          "metadata": {},
          "execution_count": 4
        }
      ]
    },
    {
      "cell_type": "code",
      "source": [
        "a.items"
      ],
      "metadata": {
        "colab": {
          "base_uri": "https://localhost:8080/"
        },
        "id": "lcp79p-rbCcL",
        "outputId": "75a32073-f60f-4195-8efe-79eabde3b22a"
      },
      "execution_count": null,
      "outputs": [
        {
          "output_type": "execute_result",
          "data": {
            "text/plain": [
              "<function dict.items>"
            ]
          },
          "metadata": {},
          "execution_count": 7
        }
      ]
    },
    {
      "cell_type": "code",
      "source": [
        "a.keys"
      ],
      "metadata": {
        "colab": {
          "base_uri": "https://localhost:8080/"
        },
        "id": "wHgW5_37bI3R",
        "outputId": "db59723b-9e1e-44fb-e6d1-216447ac2187"
      },
      "execution_count": null,
      "outputs": [
        {
          "output_type": "execute_result",
          "data": {
            "text/plain": [
              "<function dict.keys>"
            ]
          },
          "metadata": {},
          "execution_count": 8
        }
      ]
    },
    {
      "cell_type": "code",
      "source": [
        "a['Hello']"
      ],
      "metadata": {
        "colab": {
          "base_uri": "https://localhost:8080/",
          "height": 36
        },
        "id": "kNFjf9HsbPT5",
        "outputId": "aab605f3-5873-4092-c47c-0c00d1cf674c"
      },
      "execution_count": null,
      "outputs": [
        {
          "output_type": "execute_result",
          "data": {
            "text/plain": [
              "'world'"
            ],
            "application/vnd.google.colaboratory.intrinsic+json": {
              "type": "string"
            }
          },
          "metadata": {},
          "execution_count": 12
        }
      ]
    },
    {
      "cell_type": "code",
      "source": [
        "#dictitionary\n",
        "d={\"Milk\":[\"cheese\",\"butter\",\"bread\"],\"Aloo\":[\"wada\",\"patis\",\"sabji\"]}\n",
        "type(d)"
      ],
      "metadata": {
        "colab": {
          "base_uri": "https://localhost:8080/"
        },
        "id": "MilXxqgHbwaa",
        "outputId": "1b24114b-fd7e-4a09-b4a9-09dc36435b96"
      },
      "execution_count": null,
      "outputs": [
        {
          "output_type": "execute_result",
          "data": {
            "text/plain": [
              "dict"
            ]
          },
          "metadata": {},
          "execution_count": 13
        }
      ]
    },
    {
      "cell_type": "code",
      "source": [
        "d[\"Milk\"]"
      ],
      "metadata": {
        "colab": {
          "base_uri": "https://localhost:8080/"
        },
        "id": "HciACvEocP5D",
        "outputId": "db8532cd-8a71-4bb9-c3ca-60d861a8f95b"
      },
      "execution_count": null,
      "outputs": [
        {
          "output_type": "execute_result",
          "data": {
            "text/plain": [
              "['cheese', 'butter', 'bread']"
            ]
          },
          "metadata": {},
          "execution_count": 14
        }
      ]
    },
    {
      "cell_type": "code",
      "source": [
        "d[\"Milk\"][2]=\"Makkhan\""
      ],
      "metadata": {
        "id": "yK8Pm1H7cSnu"
      },
      "execution_count": null,
      "outputs": []
    },
    {
      "cell_type": "code",
      "source": [
        "d"
      ],
      "metadata": {
        "colab": {
          "base_uri": "https://localhost:8080/"
        },
        "id": "3k5rYW_3cYrK",
        "outputId": "c17e0656-f7b4-4f03-a7ed-92e9674ceb4f"
      },
      "execution_count": null,
      "outputs": [
        {
          "output_type": "execute_result",
          "data": {
            "text/plain": [
              "{'Milk': ['cheese', 'butter', 'Makkhan'], 'Aloo': ['wada', 'patis', 'sabji']}"
            ]
          },
          "metadata": {},
          "execution_count": 16
        }
      ]
    },
    {
      "cell_type": "code",
      "source": [
        "student_subjects = {\n",
        "    \"Alice\": [\"Math\", \"Science\", \"English\"],\n",
        "    \"Bob\": [\"History\", \"Geography\", \"Art\"],\n",
        "    \"Charlie\": [\"Math\", \"Physics\", \"Chemistry\"]\n",
        "}\n",
        "print(student_subjects)"
      ],
      "metadata": {
        "colab": {
          "base_uri": "https://localhost:8080/"
        },
        "id": "CKLaqXUfcZCq",
        "outputId": "804d4704-82d6-4e98-f292-a6cf510d454d"
      },
      "execution_count": null,
      "outputs": [
        {
          "output_type": "stream",
          "name": "stdout",
          "text": [
            "{'Alice': ['Math', 'Science', 'English'], 'Bob': ['History', 'Geography', 'Art'], 'Charlie': ['Math', 'Physics', 'Chemistry']}\n"
          ]
        }
      ]
    },
    {
      "cell_type": "code",
      "source": [
        "d.get(\"Milk\",\"Nahi he\") #first is key, second is alternate if not found then returns the other statement"
      ],
      "metadata": {
        "colab": {
          "base_uri": "https://localhost:8080/"
        },
        "id": "EF5RCXAzdooA",
        "outputId": "eb2afe9a-998e-4eed-d270-505469025b6e"
      },
      "execution_count": null,
      "outputs": [
        {
          "output_type": "execute_result",
          "data": {
            "text/plain": [
              "['cheese', 'butter', 'Makkhan']"
            ]
          },
          "metadata": {},
          "execution_count": 21
        }
      ]
    },
    {
      "cell_type": "code",
      "source": [
        "n=input(\"Enter a key : \")\n",
        "d.get(n,\"Nahi he\")"
      ],
      "metadata": {
        "colab": {
          "base_uri": "https://localhost:8080/"
        },
        "id": "2YSENBfvdyeh",
        "outputId": "34ac9f82-b2c1-46fa-c3f4-b6045227c839"
      },
      "execution_count": null,
      "outputs": [
        {
          "name": "stdout",
          "output_type": "stream",
          "text": [
            "Enter a key : Milk\n"
          ]
        },
        {
          "output_type": "execute_result",
          "data": {
            "text/plain": [
              "['cheese', 'butter', 'Makkhan']"
            ]
          },
          "metadata": {},
          "execution_count": 23
        }
      ]
    },
    {
      "cell_type": "code",
      "source": [
        "for i in student_subjects:\n",
        "  print(i)"
      ],
      "metadata": {
        "colab": {
          "base_uri": "https://localhost:8080/"
        },
        "id": "BWNNamrweQCN",
        "outputId": "8580d704-2a78-4f43-c2ad-7704ddf5bab8"
      },
      "execution_count": null,
      "outputs": [
        {
          "output_type": "stream",
          "name": "stdout",
          "text": [
            "Alice\n",
            "Bob\n",
            "Charlie\n"
          ]
        }
      ]
    },
    {
      "cell_type": "code",
      "source": [
        "student_subjects.items()"
      ],
      "metadata": {
        "colab": {
          "base_uri": "https://localhost:8080/"
        },
        "id": "ZNjpNv_efNjL",
        "outputId": "45408089-2108-4ae4-8374-4981b412f55a"
      },
      "execution_count": null,
      "outputs": [
        {
          "output_type": "execute_result",
          "data": {
            "text/plain": [
              "dict_items([('Alice', ['Math', 'Science', 'English']), ('Bob', ['History', 'Geography', 'Art']), ('Charlie', ['Math', 'Physics', 'Chemistry'])])"
            ]
          },
          "metadata": {},
          "execution_count": 25
        }
      ]
    },
    {
      "cell_type": "code",
      "source": [
        "for i in d:\n",
        "  print(i)"
      ],
      "metadata": {
        "colab": {
          "base_uri": "https://localhost:8080/"
        },
        "id": "JS-uRqjVfTbJ",
        "outputId": "1b7be0f1-da60-49b7-9cf6-19724dcbe670"
      },
      "execution_count": null,
      "outputs": [
        {
          "output_type": "stream",
          "name": "stdout",
          "text": [
            "Milk\n",
            "Aloo\n"
          ]
        }
      ]
    },
    {
      "cell_type": "code",
      "source": [
        "#This returns key values both\n",
        "for i in d.items():\n",
        "  print(i)"
      ],
      "metadata": {
        "colab": {
          "base_uri": "https://localhost:8080/"
        },
        "id": "wYcF8YQjfWN9",
        "outputId": "22b87aca-9743-4fda-96e4-a1343f1e6911"
      },
      "execution_count": null,
      "outputs": [
        {
          "output_type": "stream",
          "name": "stdout",
          "text": [
            "('Milk', ['cheese', 'butter', 'Makkhan'])\n",
            "('Aloo', ['wada', 'patis', 'sabji'])\n"
          ]
        }
      ]
    },
    {
      "cell_type": "code",
      "source": [
        "for i , j in d.items():\n",
        "  print(i,j)"
      ],
      "metadata": {
        "colab": {
          "base_uri": "https://localhost:8080/"
        },
        "id": "nDrdm4vefbwO",
        "outputId": "46c03541-ac3f-4f91-bfb2-d27837b10b5d"
      },
      "execution_count": null,
      "outputs": [
        {
          "output_type": "stream",
          "name": "stdout",
          "text": [
            "Milk ['cheese', 'butter', 'Makkhan']\n",
            "Aloo ['wada', 'patis', 'sabji']\n"
          ]
        }
      ]
    },
    {
      "cell_type": "code",
      "source": [
        "for i,j in d.items():\n",
        "  print(f'{i} se banta hai {j}')"
      ],
      "metadata": {
        "colab": {
          "base_uri": "https://localhost:8080/"
        },
        "id": "X3dITb3nfpWT",
        "outputId": "b34dca04-0372-471a-dd0a-84eb44f5ad72"
      },
      "execution_count": null,
      "outputs": [
        {
          "output_type": "stream",
          "name": "stdout",
          "text": [
            "Milk se banta hai ['cheese', 'butter', 'Makkhan']\n",
            "Aloo se banta hai ['wada', 'patis', 'sabji']\n"
          ]
        }
      ]
    },
    {
      "cell_type": "code",
      "source": [
        "items_price = {\n",
        "    \"Apple\": 30,\n",
        "    \"Banana\": 10,\n",
        "    \"Milk\": 45,\n",
        "    \"Bread\": 40,\n",
        "    \"Eggs\": 60,\n",
        "    \"Rice (1kg)\": 55,\n",
        "    \"Soap\": 25,\n",
        "    \"Shampoo\": 120,\n",
        "    \"Toothpaste\": 35,\n",
        "    \"Oil (1L)\": 150\n",
        "}"
      ],
      "metadata": {
        "id": "T2CJ_G-Bf_0j"
      },
      "execution_count": null,
      "outputs": []
    },
    {
      "cell_type": "code",
      "source": [
        "items_price.items()"
      ],
      "metadata": {
        "colab": {
          "base_uri": "https://localhost:8080/"
        },
        "id": "lJZlUbGYhUWw",
        "outputId": "88c87dba-605c-46fa-93e4-e2a09e128a89"
      },
      "execution_count": null,
      "outputs": [
        {
          "output_type": "execute_result",
          "data": {
            "text/plain": [
              "dict_items([('Apple', 30), ('Banana', 10), ('Milk', 45), ('Bread', 40), ('Eggs', 60), ('Rice (1kg)', 55), ('Soap', 25), ('Shampoo', 120), ('Toothpaste', 35), ('Oil (1L)', 150)])"
            ]
          },
          "metadata": {},
          "execution_count": 33
        }
      ]
    },
    {
      "cell_type": "code",
      "source": [],
      "metadata": {
        "colab": {
          "base_uri": "https://localhost:8080/",
          "height": 146
        },
        "id": "5kN0ijjahXnJ",
        "outputId": "7263934d-b3d5-446e-ea39-2c4ec5f21b1e"
      },
      "execution_count": null,
      "outputs": [
        {
          "output_type": "error",
          "ename": "AttributeError",
          "evalue": "'dict' object has no attribute 'sum'",
          "traceback": [
            "\u001b[0;31m---------------------------------------------------------------------------\u001b[0m",
            "\u001b[0;31mAttributeError\u001b[0m                            Traceback (most recent call last)",
            "\u001b[0;32m/tmp/ipython-input-34-4230192184.py\u001b[0m in \u001b[0;36m<cell line: 0>\u001b[0;34m()\u001b[0m\n\u001b[0;32m----> 1\u001b[0;31m \u001b[0mitems_price\u001b[0m\u001b[0;34m.\u001b[0m\u001b[0msum\u001b[0m\u001b[0;34m(\u001b[0m\u001b[0;34m)\u001b[0m\u001b[0;34m\u001b[0m\u001b[0;34m\u001b[0m\u001b[0m\n\u001b[0m",
            "\u001b[0;31mAttributeError\u001b[0m: 'dict' object has no attribute 'sum'"
          ]
        }
      ]
    },
    {
      "cell_type": "code",
      "source": [
        "selected_items = input(\"Enter the items you want to buy (comma-separated): \")\n",
        "selected_item_list = [item.strip() for item in selected_items.split(',')]\n",
        "\n",
        "total_price = 0\n",
        "print(\"\\nYour selected items and their prices:\")\n",
        "for item in selected_item_list:\n",
        "    if item in items_price:\n",
        "        price = items_price[item]\n",
        "        print(f\"{item}: {price}\")\n",
        "        total_price += price\n",
        "    else:\n",
        "        print(f\"{item}: Not found in the price list.\")\n",
        "\n",
        "print(f\"\\nTotal price: {total_price}\")"
      ],
      "metadata": {
        "colab": {
          "base_uri": "https://localhost:8080/"
        },
        "id": "AOb9v_nuhoiD",
        "outputId": "4f3bbf15-58a7-47a4-a41c-29b2d9359c53"
      },
      "execution_count": null,
      "outputs": [
        {
          "output_type": "stream",
          "name": "stdout",
          "text": [
            "Enter the items you want to buy (comma-separated): Apple,Banana\n",
            "\n",
            "Your selected items and their prices:\n",
            "Apple: 30\n",
            "Banana: 10\n",
            "\n",
            "Total price: 40\n"
          ]
        }
      ]
    },
    {
      "cell_type": "code",
      "source": [
        "import requests"
      ],
      "metadata": {
        "id": "zP8Y4RZyhcug"
      },
      "execution_count": null,
      "outputs": []
    },
    {
      "cell_type": "code",
      "source": [
        "api_key = \"c8f3ea1e553e69b589c4ec0ccfe6e9f4\"  # Replace with your API key\n",
        "city = 'Pune'\n",
        "url = f\"https://api.openweathermap.org/data/2.5/weather?q={city}&appid={api_key}&units=metric\"\n",
        "\n",
        "response = requests.get(url)\n",
        "response.raise_for_status()  # Raise an exception for error status codes\n",
        "data = response.json()"
      ],
      "metadata": {
        "colab": {
          "base_uri": "https://localhost:8080/",
          "height": 327
        },
        "id": "NK--TyJlmNWf",
        "outputId": "7b133ad3-71e9-4c94-d60c-3ede026e3823"
      },
      "execution_count": null,
      "outputs": [
        {
          "output_type": "error",
          "ename": "HTTPError",
          "evalue": "401 Client Error: Unauthorized for url: https://api.openweathermap.org/data/2.5/weather?q=Pune&appid=c8f3ea1e553e69b589c4ec0ccfe6e9f4&units=metric",
          "traceback": [
            "\u001b[0;31m---------------------------------------------------------------------------\u001b[0m",
            "\u001b[0;31mHTTPError\u001b[0m                                 Traceback (most recent call last)",
            "\u001b[0;32m/tmp/ipython-input-42-3416427011.py\u001b[0m in \u001b[0;36m<cell line: 0>\u001b[0;34m()\u001b[0m\n\u001b[1;32m      4\u001b[0m \u001b[0;34m\u001b[0m\u001b[0m\n\u001b[1;32m      5\u001b[0m \u001b[0mresponse\u001b[0m \u001b[0;34m=\u001b[0m \u001b[0mrequests\u001b[0m\u001b[0;34m.\u001b[0m\u001b[0mget\u001b[0m\u001b[0;34m(\u001b[0m\u001b[0murl\u001b[0m\u001b[0;34m)\u001b[0m\u001b[0;34m\u001b[0m\u001b[0;34m\u001b[0m\u001b[0m\n\u001b[0;32m----> 6\u001b[0;31m \u001b[0mresponse\u001b[0m\u001b[0;34m.\u001b[0m\u001b[0mraise_for_status\u001b[0m\u001b[0;34m(\u001b[0m\u001b[0;34m)\u001b[0m  \u001b[0;31m# Raise an exception for error status codes\u001b[0m\u001b[0;34m\u001b[0m\u001b[0;34m\u001b[0m\u001b[0m\n\u001b[0m\u001b[1;32m      7\u001b[0m \u001b[0mdata\u001b[0m \u001b[0;34m=\u001b[0m \u001b[0mresponse\u001b[0m\u001b[0;34m.\u001b[0m\u001b[0mjson\u001b[0m\u001b[0;34m(\u001b[0m\u001b[0;34m)\u001b[0m\u001b[0;34m\u001b[0m\u001b[0;34m\u001b[0m\u001b[0m\n",
            "\u001b[0;32m/usr/local/lib/python3.11/dist-packages/requests/models.py\u001b[0m in \u001b[0;36mraise_for_status\u001b[0;34m(self)\u001b[0m\n\u001b[1;32m   1022\u001b[0m \u001b[0;34m\u001b[0m\u001b[0m\n\u001b[1;32m   1023\u001b[0m         \u001b[0;32mif\u001b[0m \u001b[0mhttp_error_msg\u001b[0m\u001b[0;34m:\u001b[0m\u001b[0;34m\u001b[0m\u001b[0;34m\u001b[0m\u001b[0m\n\u001b[0;32m-> 1024\u001b[0;31m             \u001b[0;32mraise\u001b[0m \u001b[0mHTTPError\u001b[0m\u001b[0;34m(\u001b[0m\u001b[0mhttp_error_msg\u001b[0m\u001b[0;34m,\u001b[0m \u001b[0mresponse\u001b[0m\u001b[0;34m=\u001b[0m\u001b[0mself\u001b[0m\u001b[0;34m)\u001b[0m\u001b[0;34m\u001b[0m\u001b[0;34m\u001b[0m\u001b[0m\n\u001b[0m\u001b[1;32m   1025\u001b[0m \u001b[0;34m\u001b[0m\u001b[0m\n\u001b[1;32m   1026\u001b[0m     \u001b[0;32mdef\u001b[0m \u001b[0mclose\u001b[0m\u001b[0;34m(\u001b[0m\u001b[0mself\u001b[0m\u001b[0;34m)\u001b[0m\u001b[0;34m:\u001b[0m\u001b[0;34m\u001b[0m\u001b[0;34m\u001b[0m\u001b[0m\n",
            "\u001b[0;31mHTTPError\u001b[0m: 401 Client Error: Unauthorized for url: https://api.openweathermap.org/data/2.5/weather?q=Pune&appid=c8f3ea1e553e69b589c4ec0ccfe6e9f4&units=metric"
          ]
        }
      ]
    },
    {
      "cell_type": "code",
      "source": [],
      "metadata": {
        "id": "Brg-c7iznSPa"
      },
      "execution_count": null,
      "outputs": []
    }
  ]
}