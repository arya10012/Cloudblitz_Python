{
  "nbformat": 4,
  "nbformat_minor": 0,
  "metadata": {
    "colab": {
      "provenance": []
    },
    "kernelspec": {
      "name": "python3",
      "display_name": "Python 3"
    },
    "language_info": {
      "name": "python"
    }
  },
  "cells": [
    {
      "cell_type": "code",
      "execution_count": null,
      "metadata": {
        "id": "hzx-dMAxTGmW"
      },
      "outputs": [],
      "source": [
        "#OOP - object Oriented Programming\n",
        "#Class - a class is a blueprint of object\n",
        "# object- it is a instance of class\n",
        "# everything in python is an object\n",
        "#if car is a class then type of models it holds will be objects .\n",
        "# for example : Cars --> bmw,mercedes,audi\n",
        "#fruits--> apple , watermelon , mango, orange.\n",
        "#datatype itself is a class."
      ]
    },
    {
      "cell_type": "code",
      "source": [
        "# Class\n",
        "class Student:\n",
        "  pass"
      ],
      "metadata": {
        "id": "b5br0Tn2XC1Z"
      },
      "execution_count": null,
      "outputs": []
    },
    {
      "cell_type": "code",
      "source": [
        "type(Student)"
      ],
      "metadata": {
        "colab": {
          "base_uri": "https://localhost:8080/"
        },
        "id": "iX7-hlz-XiRK",
        "outputId": "5f628bf6-ef9e-4ef7-fc27-fc35c5a6af1f"
      },
      "execution_count": null,
      "outputs": [
        {
          "output_type": "execute_result",
          "data": {
            "text/plain": [
              "type"
            ]
          },
          "metadata": {},
          "execution_count": 3
        }
      ]
    },
    {
      "cell_type": "code",
      "source": [
        "# create two classes and objects\n",
        "#create fruits class ,veggies class\n",
        "class fruit :   #class\n",
        "  fr = \"apple\"   # objects\n",
        "  fr1=\"banana\"\n",
        "  fr2=\"orange\"\n",
        "\n",
        "class veggies: # class\n",
        "  vg=\"tomato\"   #objects\n",
        "  vg1=\"potato\"\n",
        "  vg2=\"carrot\"\n"
      ],
      "metadata": {
        "id": "JjyN877eXkDz"
      },
      "execution_count": null,
      "outputs": []
    },
    {
      "cell_type": "code",
      "source": [
        "fruit1 = fruit()"
      ],
      "metadata": {
        "id": "beA50PgwaogV"
      },
      "execution_count": null,
      "outputs": []
    },
    {
      "cell_type": "code",
      "source": [
        "veg = veggies()"
      ],
      "metadata": {
        "id": "iq_TZtWoar1R"
      },
      "execution_count": null,
      "outputs": []
    },
    {
      "cell_type": "code",
      "source": [
        "fruit1.fr"
      ],
      "metadata": {
        "colab": {
          "base_uri": "https://localhost:8080/",
          "height": 36
        },
        "id": "PVjt4sbyawDS",
        "outputId": "e8b9c519-32ea-4e92-b5ee-5a957586c2d8"
      },
      "execution_count": null,
      "outputs": [
        {
          "output_type": "execute_result",
          "data": {
            "text/plain": [
              "'apple'"
            ],
            "application/vnd.google.colaboratory.intrinsic+json": {
              "type": "string"
            }
          },
          "metadata": {},
          "execution_count": 7
        }
      ]
    },
    {
      "cell_type": "code",
      "source": [
        "#constructor\n",
        "class Fruits:\n",
        "  def __init__(self,name,color,taste) :\n",
        "    self.name = name\n",
        "    self.color = color\n",
        "    self.taste = taste\n",
        "    print(\"this function is running\")"
      ],
      "metadata": {
        "id": "ZOcZOeV-azUt"
      },
      "execution_count": null,
      "outputs": []
    },
    {
      "cell_type": "code",
      "source": [
        "f1=Fruits(\"apple\",\"red\",\"sweet\")\n",
        "f2=Fruits(\"banana\",\"yellow\",\"sweet\")"
      ],
      "metadata": {
        "colab": {
          "base_uri": "https://localhost:8080/"
        },
        "id": "9-v_7P0-dAet",
        "outputId": "f06c8663-1752-4c12-f3ab-7a4227b85fbd"
      },
      "execution_count": null,
      "outputs": [
        {
          "output_type": "stream",
          "name": "stdout",
          "text": [
            "this function is running\n",
            "this function is running\n"
          ]
        }
      ]
    },
    {
      "cell_type": "code",
      "source": [
        "f1.name"
      ],
      "metadata": {
        "colab": {
          "base_uri": "https://localhost:8080/",
          "height": 36
        },
        "id": "jLDKDw6Pd7cG",
        "outputId": "c5f664e3-a394-41b4-af80-135383531ab8"
      },
      "execution_count": null,
      "outputs": [
        {
          "output_type": "execute_result",
          "data": {
            "text/plain": [
              "'apple'"
            ],
            "application/vnd.google.colaboratory.intrinsic+json": {
              "type": "string"
            }
          },
          "metadata": {},
          "execution_count": 14
        }
      ]
    },
    {
      "cell_type": "code",
      "source": [
        "f1.color"
      ],
      "metadata": {
        "colab": {
          "base_uri": "https://localhost:8080/",
          "height": 36
        },
        "id": "iBJ08nFvd8jp",
        "outputId": "0a100325-876c-4343-9976-5906794acb09"
      },
      "execution_count": null,
      "outputs": [
        {
          "output_type": "execute_result",
          "data": {
            "text/plain": [
              "'red'"
            ],
            "application/vnd.google.colaboratory.intrinsic+json": {
              "type": "string"
            }
          },
          "metadata": {},
          "execution_count": 15
        }
      ]
    },
    {
      "cell_type": "code",
      "source": [
        "# create a car class\n",
        "class Car:\n",
        "  def __init__(self,name,color,model, distance, fuel_consumed):\n",
        "    self.name = name\n",
        "    self.color = color\n",
        "    self.model = model\n",
        "    self.distance = distance\n",
        "    self.fuel_consumed = fuel_consumed\n",
        "    self.mileage = self.calculate_mileage()\n",
        "    print(f\"{self.name} car ({self.color}, {self.model}) created with distance {self.distance} km and fuel consumed {self.fuel_consumed} liters. Mileage: {self.mileage} km/liter.\")\n",
        "\n",
        "  def calculate_mileage(self):\n",
        "    if self.fuel_consumed > 0:\n",
        "      return self.distance / self.fuel_consumed\n",
        "    else:\n",
        "      return 0 # Or handle the case where fuel_consumed is zero as appropriate"
      ],
      "metadata": {
        "id": "Va1fO-FKf9_u"
      },
      "execution_count": null,
      "outputs": []
    },
    {
      "cell_type": "code",
      "source": [
        "honda=Car(\"civic\",\"white\",2019,1000,50)"
      ],
      "metadata": {
        "colab": {
          "base_uri": "https://localhost:8080/"
        },
        "id": "pi3mvcz_jVFu",
        "outputId": "103a48ee-1945-4d82-d9d5-16f0833db688"
      },
      "execution_count": null,
      "outputs": [
        {
          "output_type": "stream",
          "name": "stdout",
          "text": [
            "civic car (white, 2019) created with distance 1000 km and fuel consumed 50 liters. Mileage: 20.0 km/liter.\n"
          ]
        }
      ]
    },
    {
      "cell_type": "code",
      "source": [],
      "metadata": {
        "id": "WI72-WMDjqaN"
      },
      "execution_count": null,
      "outputs": []
    },
    {
      "cell_type": "code",
      "source": [],
      "metadata": {
        "id": "Ya-IvWccjso5"
      },
      "execution_count": null,
      "outputs": []
    }
  ]
}