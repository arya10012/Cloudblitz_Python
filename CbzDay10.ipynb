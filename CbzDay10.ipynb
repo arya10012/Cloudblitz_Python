{
  "nbformat": 4,
  "nbformat_minor": 0,
  "metadata": {
    "colab": {
      "provenance": []
    },
    "kernelspec": {
      "name": "python3",
      "display_name": "Python 3"
    },
    "language_info": {
      "name": "python"
    }
  },
  "cells": [
    {
      "cell_type": "code",
      "execution_count": null,
      "metadata": {
        "colab": {
          "base_uri": "https://localhost:8080/"
        },
        "id": "4cEGagh_trKQ",
        "outputId": "9475bd0a-1cab-4c9a-ac34-a478e5a67d3a"
      },
      "outputs": [
        {
          "output_type": "stream",
          "name": "stdout",
          "text": [
            "50 125000\n",
            "51 132651\n",
            "52 140608\n",
            "53 148877\n",
            "54 157464\n",
            "55 166375\n",
            "56 175616\n",
            "57 185193\n",
            "58 195112\n",
            "59 205379\n",
            "60 216000\n",
            "61 226981\n",
            "62 238328\n",
            "63 250047\n",
            "64 262144\n",
            "65 274625\n",
            "66 287496\n",
            "67 300763\n",
            "68 314432\n",
            "69 328509\n",
            "70 343000\n",
            "71 357911\n",
            "72 373248\n",
            "73 389017\n",
            "74 405224\n",
            "75 421875\n",
            "76 438976\n",
            "77 456533\n",
            "78 474552\n",
            "79 493039\n",
            "80 512000\n",
            "81 531441\n",
            "82 551368\n",
            "83 571787\n",
            "84 592704\n",
            "85 614125\n",
            "86 636056\n",
            "87 658503\n",
            "88 681472\n",
            "89 704969\n",
            "90 729000\n",
            "91 753571\n",
            "92 778688\n",
            "93 804357\n",
            "94 830584\n",
            "95 857375\n",
            "96 884736\n",
            "97 912673\n",
            "98 941192\n",
            "99 970299\n",
            "100 1000000\n",
            "101 1030301\n",
            "102 1061208\n",
            "103 1092727\n",
            "104 1124864\n",
            "105 1157625\n",
            "106 1191016\n",
            "107 1225043\n",
            "108 1259712\n",
            "109 1295029\n",
            "110 1331000\n",
            "111 1367631\n",
            "112 1404928\n",
            "113 1442897\n",
            "114 1481544\n",
            "115 1520875\n",
            "116 1560896\n",
            "117 1601613\n",
            "118 1643032\n",
            "119 1685159\n",
            "120 1728000\n",
            "121 1771561\n",
            "122 1815848\n",
            "123 1860867\n",
            "124 1906624\n",
            "125 1953125\n",
            "126 2000376\n",
            "127 2048383\n",
            "128 2097152\n",
            "129 2146689\n",
            "130 2197000\n",
            "131 2248091\n",
            "132 2299968\n",
            "133 2352637\n",
            "134 2406104\n",
            "135 2460375\n",
            "136 2515456\n",
            "137 2571353\n",
            "138 2628072\n",
            "139 2685619\n",
            "140 2744000\n",
            "141 2803221\n",
            "142 2863288\n",
            "143 2924207\n",
            "144 2985984\n",
            "145 3048625\n",
            "146 3112136\n",
            "147 3176523\n",
            "148 3241792\n",
            "149 3307949\n",
            "150 3375000\n",
            "151 3442951\n",
            "152 3511808\n",
            "153 3581577\n",
            "154 3652264\n",
            "155 3723875\n",
            "156 3796416\n",
            "157 3869893\n",
            "158 3944312\n",
            "159 4019679\n",
            "160 4096000\n",
            "161 4173281\n",
            "162 4251528\n",
            "163 4330747\n",
            "164 4410944\n",
            "165 4492125\n",
            "166 4574296\n",
            "167 4657463\n",
            "168 4741632\n",
            "169 4826809\n",
            "170 4913000\n",
            "171 5000211\n",
            "172 5088448\n",
            "173 5177717\n",
            "174 5268024\n",
            "175 5359375\n",
            "176 5451776\n",
            "177 5545233\n",
            "178 5639752\n",
            "179 5735339\n",
            "180 5832000\n",
            "181 5929741\n",
            "182 6028568\n",
            "183 6128487\n",
            "184 6229504\n",
            "185 6331625\n",
            "186 6434856\n",
            "187 6539203\n",
            "188 6644672\n",
            "189 6751269\n",
            "190 6859000\n",
            "191 6967871\n",
            "192 7077888\n",
            "193 7189057\n",
            "194 7301384\n",
            "195 7414875\n",
            "196 7529536\n",
            "197 7645373\n",
            "198 7762392\n",
            "199 7880599\n"
          ]
        }
      ],
      "source": [
        "\n",
        "for i in range(50,200):\n",
        "    print(i,i**3)"
      ]
    },
    {
      "cell_type": "code",
      "source": [
        "x=1\n",
        "while x <10:\n",
        "  print(x *\"*\")\n",
        "  x=x+1"
      ],
      "metadata": {
        "colab": {
          "base_uri": "https://localhost:8080/"
        },
        "id": "Fz0YJAUf2Q4d",
        "outputId": "66618caa-afc2-4821-e62d-dd5c8f7526fb"
      },
      "execution_count": null,
      "outputs": [
        {
          "output_type": "stream",
          "name": "stdout",
          "text": [
            "*\n",
            "**\n",
            "***\n",
            "****\n",
            "*****\n",
            "******\n",
            "*******\n",
            "********\n",
            "*********\n"
          ]
        }
      ]
    },
    {
      "cell_type": "code",
      "source": [
        "p = 2000\n",
        "while p > 0:\n",
        "  amount = int(input(f\"Enter amount to deduct (remaining: {p}): \"))\n",
        "  if amount > p:\n",
        "    print(\"Amount exceeds remaining balance. Please enter a smaller amount.\")\n",
        "  else:\n",
        "    p = p - amount\n",
        "    print(f\"Deducted {amount}. Remaining balance: {p}\")\n",
        "\n",
        "print(\"Balance is zero.\")"
      ],
      "metadata": {
        "colab": {
          "base_uri": "https://localhost:8080/"
        },
        "id": "rrURbcBo3YlL",
        "outputId": "d1e6e265-2bd4-4b25-db20-6fd9c6afb5a6"
      },
      "execution_count": null,
      "outputs": [
        {
          "output_type": "stream",
          "name": "stdout",
          "text": [
            "Enter amount to deduct (remaining: 2000): 1000\n",
            "Deducted 1000. Remaining balance: 1000\n",
            "Enter amount to deduct (remaining: 1000): 2000\n",
            "Amount exceeds remaining balance. Please enter a smaller amount.\n",
            "Enter amount to deduct (remaining: 1000): 500\n",
            "Deducted 500. Remaining balance: 500\n",
            "Enter amount to deduct (remaining: 500): 500\n",
            "Deducted 500. Remaining balance: 0\n",
            "Balance is zero.\n"
          ]
        }
      ]
    },
    {
      "cell_type": "code",
      "source": [],
      "metadata": {
        "id": "0qriXct75kUd"
      },
      "execution_count": null,
      "outputs": []
    },
    {
      "cell_type": "code",
      "source": [],
      "metadata": {
        "id": "il7ZSdCbDGS0"
      },
      "execution_count": null,
      "outputs": []
    }
  ]
}